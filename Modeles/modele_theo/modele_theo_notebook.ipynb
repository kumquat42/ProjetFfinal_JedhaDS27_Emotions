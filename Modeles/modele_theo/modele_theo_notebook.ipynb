{
  "nbformat": 4,
  "nbformat_minor": 0,
  "metadata": {
    "colab": {
      "provenance": [],
      "gpuType": "T4"
    },
    "kernelspec": {
      "name": "python3",
      "display_name": "Python 3"
    },
    "language_info": {
      "name": "python"
    },
    "accelerator": "GPU"
  },
  "cells": [
    {
      "cell_type": "markdown",
      "source": [
        "## Import et prétraitement"
      ],
      "metadata": {
        "id": "PZPHCKJNzOTv"
      }
    },
    {
      "cell_type": "markdown",
      "source": [
        "Import des libraries et méthodes"
      ],
      "metadata": {
        "id": "Dh2b3nsYmrE7"
      }
    },
    {
      "cell_type": "code",
      "execution_count": 40,
      "metadata": {
        "id": "y6ByYwmEAWYt"
      },
      "outputs": [],
      "source": [
        "import PIL\n",
        "from PIL import Image\n",
        "import numpy as np\n",
        "import matplotlib.pyplot as plt\n",
        "import pandas as pd\n",
        "import joblib\n",
        "\n",
        "from tensorflow.keras.layers import Dropout\n",
        "from tensorflow.keras.layers import Flatten,BatchNormalization\n",
        "from tensorflow.keras.layers import Dense, MaxPooling2D,Conv2D\n",
        "from tensorflow.keras.layers import Input,Activation,Add\n",
        "from tensorflow.keras.models import Model\n",
        "from tensorflow.keras.regularizers import l2\n",
        "from tensorflow.keras.optimizers import Adam\n",
        "from sklearn.utils.class_weight import compute_class_weight\n",
        "from sklearn.metrics import classification_report\n",
        "from sklearn.metrics import confusion_matrix, ConfusionMatrixDisplay\n",
        "\n",
        "import tensorflow as tf\n",
        "# from pathlib import Path\n",
        "tf.__version__\n",
        "from tensorflow.keras.utils import plot_model\n",
        "from tensorflow.keras.preprocessing.image import ImageDataGenerator"
      ]
    },
    {
      "cell_type": "markdown",
      "source": [
        "Import des dataset"
      ],
      "metadata": {
        "id": "iPjAOJj4odXl"
      }
    },
    {
      "cell_type": "code",
      "source": [
        "! git clone https://github.com/kumquat42/ProjetFinal_JedhaDS27_Emotions.git"
      ],
      "metadata": {
        "colab": {
          "base_uri": "https://localhost:8080/"
        },
        "id": "usssOKwxn3vy",
        "outputId": "12c2ca5f-92bd-4944-9158-9268ef2fa060"
      },
      "execution_count": 41,
      "outputs": [
        {
          "output_type": "stream",
          "name": "stdout",
          "text": [
            "fatal: destination path 'ProjetFinal_JedhaDS27_Emotions' already exists and is not an empty directory.\n"
          ]
        }
      ]
    },
    {
      "cell_type": "code",
      "source": [
        "train_dir = \"/content/ProjetFinal_JedhaDS27_Emotions/Datasets/FER2013/train\"\n",
        "test_dir = \"/content/ProjetFinal_JedhaDS27_Emotions/Datasets/FER2013/test\""
      ],
      "metadata": {
        "id": "n7rptj8somFY"
      },
      "execution_count": 42,
      "outputs": []
    },
    {
      "cell_type": "markdown",
      "source": [
        "Affichons une image"
      ],
      "metadata": {
        "id": "sxgTIA7xpYQ4"
      }
    },
    {
      "cell_type": "code",
      "source": [
        "with Image.open(f'{test_dir}/angry/PrivateTest_10131363.jpg') as img:\n",
        "#with Image.open(f'{train_dir}/angry/Training_10118481.jpg') as img:\n",
        "  display(img)"
      ],
      "metadata": {
        "colab": {
          "base_uri": "https://localhost:8080/",
          "height": 65
        },
        "id": "n5jFZk8CpLKw",
        "outputId": "7e7b4f21-b250-45f9-e952-d0d6ca4b1c52"
      },
      "execution_count": 43,
      "outputs": [
        {
          "output_type": "display_data",
          "data": {
            "text/plain": [
              "<PIL.JpegImagePlugin.JpegImageFile image mode=L size=48x48>"
            ],
            "image/png": "[encoded data removed]"
          },
          "metadata": {}
        }
      ]
    },
    {
      "cell_type": "code",
      "source": [
        "BATCH_SIZE = 64\n",
        "\n",
        "EARLY_STOPPING_CRITERIA = 10 # Permet d'arrêter le modèle lorsqu'il tourne dans le vide\n",
        "EPOCHS = 200\n",
        "\n",
        "\n",
        "#  Class labels : 0,, 1, 2, 3, 4, 5, 6. cf. surprise =6 [0. 0. 0. 0. 0. 0. 1.]\n",
        "CLASS_LABELS = ['angry', 'disgust', 'fear', 'happy', 'neutral', 'sad', 'surprise']\n",
        "\n",
        "class_weight = {0: 28709/3995/2.0,\n",
        "                1: 28709/436/2.0,\n",
        "                2: 28709/4097/2.0,\n",
        "                3: 28709/7215/2.0,\n",
        "                4: 28709/4965/2.0,\n",
        "                5: 28709/4830/2.0,\n",
        "                6: 28709/3171/2.0}"
      ],
      "metadata": {
        "id": "DrpqFrwRt7Yp"
      },
      "execution_count": 44,
      "outputs": []
    },
    {
      "cell_type": "code",
      "source": [
        "train_datagen = ImageDataGenerator(\n",
        "    rescale = 1./255,\n",
        "    validation_split = 0.3\n",
        ")\n",
        "\n",
        "train_generator = train_datagen.flow_from_directory(\n",
        "    directory = train_dir,\n",
        "    target_size = (48, 48),\n",
        "    batch_size = BATCH_SIZE,\n",
        "    color_mode = \"grayscale\",\n",
        "    class_mode = \"categorical\",\n",
        "    shuffle=True,\n",
        "    subset=\"training\"\n",
        ")\n",
        "\n",
        "validation_generator = train_datagen.flow_from_directory(\n",
        "    directory = train_dir,\n",
        "    target_size = (48, 48),\n",
        "    batch_size = BATCH_SIZE,\n",
        "    color_mode = \"grayscale\",\n",
        "    class_mode = \"categorical\",\n",
        "    shuffle=True,\n",
        "    subset=\"validation\"\n",
        ")"
      ],
      "metadata": {
        "colab": {
          "base_uri": "https://localhost:8080/"
        },
        "id": "-JtEf-jlw5zN",
        "outputId": "0025d0c4-c0fe-427d-fdaf-8aff8da16d52"
      },
      "execution_count": 45,
      "outputs": [
        {
          "output_type": "stream",
          "name": "stdout",
          "text": [
            "Found 20099 images belonging to 7 classes.\n",
            "Found 8610 images belonging to 7 classes.\n"
          ]
        }
      ]
    },
    {
      "cell_type": "code",
      "source": [
        "from pathlib import Path\n",
        "\n",
        "# voir les images - à tester...\n",
        "imgs, labels = next(iter(train_generator))\n",
        "for img, label in zip(imgs, labels):\n",
        "  true_file_path = np.argmax(train_generator.labels == tf.argmax(label)) # Je cherche n'importe quelle index avec une valeur True\n",
        "  true_label_name = Path(train_generator.filepaths[true_file_path]).parent.name\n",
        "  print(label)\n",
        "  plt.imshow(img)\n",
        "  plt.title(true_label_name)\n",
        "  plt.show()"
      ],
      "metadata": {
        "id": "9Bv-Y90-y_xo"
      },
      "execution_count": null,
      "outputs": []
    },
    {
      "cell_type": "markdown",
      "source": [
        "### Modèle"
      ],
      "metadata": {
        "id": "VfHqR1XZzLYL"
      }
    },
    {
      "cell_type": "markdown",
      "source": [
        "On crée une structure."
      ],
      "metadata": {
        "id": "-XHIGnH81XGT"
      }
    },
    {
      "cell_type": "code",
      "source": [
        "input = Input(shape = (48,48,1))\n",
        "conv1 = Conv2D(32,(3, 3), padding = 'same', strides=(1, 1), kernel_regularizer=l2(0.001))(input)\n",
        "conv1 = Dropout(0.1)(conv1)\n",
        "conv1 = Activation('relu')(conv1)\n",
        "pool1 = MaxPooling2D(pool_size = (2,2))(conv1)\n",
        "conv2 = Conv2D(64,(3, 3), padding = 'same', strides=(1, 1), kernel_regularizer=l2(0.001))(pool1)\n",
        "conv2 = Dropout(0.1)(conv2)\n",
        "conv2 = Activation('relu')(conv2)\n",
        "pool2 = MaxPooling2D(pool_size = (2,2))(conv2)\n",
        "conv3 = Conv2D(128,(3, 3), padding = 'same', strides=(1, 1), kernel_regularizer=l2(0.001))(pool2)\n",
        "conv3 = Dropout(0.1)(conv3)\n",
        "conv3 = Activation('relu')(conv3)\n",
        "pool3 = MaxPooling2D(pool_size = (2,2))(conv3)\n",
        "conv4 = Conv2D(256,(3, 3), padding = 'same', strides=(1, 1), kernel_regularizer=l2(0.001))(pool3)\n",
        "conv4 = Dropout(0.1)(conv4)\n",
        "conv4 = Activation('relu')(conv4)\n",
        "pool4 = MaxPooling2D(pool_size = (2,2))(conv4)\n",
        "flatten = Flatten()(pool4)\n",
        "dense_1 = Dense(128,activation='relu')(flatten)\n",
        "drop_1 = Dropout(0.2)(dense_1)\n",
        "output = Dense(7,activation=\"sigmoid\")(drop_1)"
      ],
      "metadata": {
        "id": "GEeAAoG5zSND"
      },
      "execution_count": 62,
      "outputs": []
    },
    {
      "cell_type": "markdown",
      "source": [
        "On crée notre modèle."
      ],
      "metadata": {
        "id": "6t6qR1vu1a25"
      }
    },
    {
      "cell_type": "code",
      "source": [
        "model = Model(inputs=input, outputs=output)\n",
        "model.compile(optimizer=tf.keras.optimizers.Adam(),\n",
        "              loss = tf.keras.losses.CategoricalCrossentropy(),\n",
        "              metrics = [tf.keras.metrics.CategoricalAccuracy()])\n",
        "model.summary()"
      ],
      "metadata": {
        "colab": {
          "base_uri": "https://localhost:8080/"
        },
        "id": "U4dI3tRM1T-2",
        "outputId": "6eb07329-6f7c-4978-c586-5f724b553351"
      },
      "execution_count": 63,
      "outputs": [
        {
          "output_type": "stream",
          "name": "stdout",
          "text": [
            "Model: \"model_5\"\n",
            "_________________________________________________________________\n",
            " Layer (type)                Output Shape              Param #   \n",
            "=================================================================\n",
            " input_6 (InputLayer)        [(None, 48, 48, 1)]       0         \n",
            "                                                                 \n",
            " conv2d_20 (Conv2D)          (None, 48, 48, 32)        320       \n",
            "                                                                 \n",
            " dropout_25 (Dropout)        (None, 48, 48, 32)        0         \n",
            "                                                                 \n",
            " activation_20 (Activation)  (None, 48, 48, 32)        0         \n",
            "                                                                 \n",
            " max_pooling2d_20 (MaxPooli  (None, 24, 24, 32)        0         \n",
            " ng2D)                                                           \n",
            "                                                                 \n",
            " conv2d_21 (Conv2D)          (None, 24, 24, 64)        18496     \n",
            "                                                                 \n",
            " dropout_26 (Dropout)        (None, 24, 24, 64)        0         \n",
            "                                                                 \n",
            " activation_21 (Activation)  (None, 24, 24, 64)        0         \n",
            "                                                                 \n",
            " max_pooling2d_21 (MaxPooli  (None, 12, 12, 64)        0         \n",
            " ng2D)                                                           \n",
            "                                                                 \n",
            " conv2d_22 (Conv2D)          (None, 12, 12, 128)       73856     \n",
            "                                                                 \n",
            " dropout_27 (Dropout)        (None, 12, 12, 128)       0         \n",
            "                                                                 \n",
            " activation_22 (Activation)  (None, 12, 12, 128)       0         \n",
            "                                                                 \n",
            " max_pooling2d_22 (MaxPooli  (None, 6, 6, 128)         0         \n",
            " ng2D)                                                           \n",
            "                                                                 \n",
            " conv2d_23 (Conv2D)          (None, 6, 6, 256)         295168    \n",
            "                                                                 \n",
            " dropout_28 (Dropout)        (None, 6, 6, 256)         0         \n",
            "                                                                 \n",
            " activation_23 (Activation)  (None, 6, 6, 256)         0         \n",
            "                                                                 \n",
            " max_pooling2d_23 (MaxPooli  (None, 3, 3, 256)         0         \n",
            " ng2D)                                                           \n",
            "                                                                 \n",
            " flatten_5 (Flatten)         (None, 2304)              0         \n",
            "                                                                 \n",
            " dense_10 (Dense)            (None, 128)               295040    \n",
            "                                                                 \n",
            " dropout_29 (Dropout)        (None, 128)               0         \n",
            "                                                                 \n",
            " dense_11 (Dense)            (None, 7)                 903       \n",
            "                                                                 \n",
            "=================================================================\n",
            "Total params: 683783 (2.61 MB)\n",
            "Trainable params: 683783 (2.61 MB)\n",
            "Non-trainable params: 0 (0.00 Byte)\n",
            "_________________________________________________________________\n"
          ]
        }
      ]
    },
    {
      "cell_type": "markdown",
      "source": [
        "## Entrainement du modèle"
      ],
      "metadata": {
        "id": "qITo9f8o1-IP"
      }
    },
    {
      "cell_type": "code",
      "source": [
        "earlyStoppingCallback = tf.keras.callbacks.EarlyStopping(monitor='val_loss',\n",
        "                                                         patience=EARLY_STOPPING_CRITERIA,\n",
        "                                                         verbose= 1,\n",
        "                                                         restore_best_weights=True\n",
        ")\n",
        "\n",
        "history = model.fit(train_generator,\n",
        "                    epochs = EPOCHS,\n",
        "                    validation_data = validation_generator,\n",
        "                    callbacks=[earlyStoppingCallback],\n",
        "                    class_weight=class_weight)"
      ],
      "metadata": {
        "colab": {
          "base_uri": "https://localhost:8080/"
        },
        "id": "KlB_ASoq2Aw9",
        "outputId": "16df9991-f471-4fe7-a2c0-0f6e8414c73a"
      },
      "execution_count": 64,
      "outputs": [
        {
          "output_type": "stream",
          "name": "stdout",
          "text": [
            "Epoch 1/200\n",
            "315/315 [==============================] - 15s 41ms/step - loss: 6.8700 - categorical_accuracy: 0.1582 - val_loss: 1.9350 - val_categorical_accuracy: 0.1880\n",
            "Epoch 2/200\n",
            "315/315 [==============================] - 13s 41ms/step - loss: 6.7054 - categorical_accuracy: 0.2003 - val_loss: 1.8939 - val_categorical_accuracy: 0.2611\n",
            "Epoch 3/200\n",
            "315/315 [==============================] - 13s 42ms/step - loss: 6.3689 - categorical_accuracy: 0.2680 - val_loss: 1.8573 - val_categorical_accuracy: 0.2656\n",
            "Epoch 4/200\n",
            "315/315 [==============================] - 14s 44ms/step - loss: 6.0196 - categorical_accuracy: 0.3271 - val_loss: 1.7857 - val_categorical_accuracy: 0.3369\n",
            "Epoch 5/200\n",
            "315/315 [==============================] - 16s 51ms/step - loss: 5.6537 - categorical_accuracy: 0.3760 - val_loss: 1.6243 - val_categorical_accuracy: 0.4236\n",
            "Epoch 6/200\n",
            "315/315 [==============================] - 14s 45ms/step - loss: 5.3832 - categorical_accuracy: 0.4034 - val_loss: 1.6309 - val_categorical_accuracy: 0.4187\n",
            "Epoch 7/200\n",
            "315/315 [==============================] - 14s 44ms/step - loss: 5.2425 - categorical_accuracy: 0.4259 - val_loss: 1.6298 - val_categorical_accuracy: 0.4184\n",
            "Epoch 8/200\n",
            "315/315 [==============================] - 14s 46ms/step - loss: 4.9883 - categorical_accuracy: 0.4442 - val_loss: 1.6095 - val_categorical_accuracy: 0.4339\n",
            "Epoch 9/200\n",
            "315/315 [==============================] - 14s 45ms/step - loss: 4.8254 - categorical_accuracy: 0.4624 - val_loss: 1.5422 - val_categorical_accuracy: 0.4688\n",
            "Epoch 10/200\n",
            "315/315 [==============================] - 14s 44ms/step - loss: 4.6915 - categorical_accuracy: 0.4796 - val_loss: 1.5423 - val_categorical_accuracy: 0.4718\n",
            "Epoch 11/200\n",
            "315/315 [==============================] - 14s 46ms/step - loss: 4.5820 - categorical_accuracy: 0.4853 - val_loss: 1.5081 - val_categorical_accuracy: 0.4858\n",
            "Epoch 12/200\n",
            "315/315 [==============================] - 14s 44ms/step - loss: 4.4453 - categorical_accuracy: 0.4974 - val_loss: 1.5296 - val_categorical_accuracy: 0.4828\n",
            "Epoch 13/200\n",
            "315/315 [==============================] - 14s 46ms/step - loss: 4.3807 - categorical_accuracy: 0.4999 - val_loss: 1.5160 - val_categorical_accuracy: 0.4901\n",
            "Epoch 14/200\n",
            "315/315 [==============================] - 14s 44ms/step - loss: 4.2924 - categorical_accuracy: 0.5120 - val_loss: 1.5477 - val_categorical_accuracy: 0.4828\n",
            "Epoch 15/200\n",
            "315/315 [==============================] - 13s 43ms/step - loss: 4.1563 - categorical_accuracy: 0.5233 - val_loss: 1.5314 - val_categorical_accuracy: 0.4965\n",
            "Epoch 16/200\n",
            "315/315 [==============================] - 14s 44ms/step - loss: 4.1533 - categorical_accuracy: 0.5232 - val_loss: 1.5469 - val_categorical_accuracy: 0.4912\n",
            "Epoch 17/200\n",
            "315/315 [==============================] - 14s 44ms/step - loss: 4.0788 - categorical_accuracy: 0.5345 - val_loss: 1.5216 - val_categorical_accuracy: 0.5067\n",
            "Epoch 18/200\n",
            "315/315 [==============================] - 16s 50ms/step - loss: 4.0435 - categorical_accuracy: 0.5397 - val_loss: 1.5552 - val_categorical_accuracy: 0.4930\n",
            "Epoch 19/200\n",
            "315/315 [==============================] - 13s 42ms/step - loss: 4.0657 - categorical_accuracy: 0.5307 - val_loss: 1.5442 - val_categorical_accuracy: 0.5038\n",
            "Epoch 20/200\n",
            "315/315 [==============================] - 13s 41ms/step - loss: 3.9410 - categorical_accuracy: 0.5544 - val_loss: 1.5005 - val_categorical_accuracy: 0.5164\n",
            "Epoch 21/200\n",
            "315/315 [==============================] - 14s 43ms/step - loss: 3.8354 - categorical_accuracy: 0.5645 - val_loss: 1.5128 - val_categorical_accuracy: 0.5149\n",
            "Epoch 22/200\n",
            "315/315 [==============================] - 13s 41ms/step - loss: 3.8665 - categorical_accuracy: 0.5612 - val_loss: 1.5066 - val_categorical_accuracy: 0.5184\n",
            "Epoch 23/200\n",
            "315/315 [==============================] - 14s 44ms/step - loss: 3.8202 - categorical_accuracy: 0.5670 - val_loss: 1.5246 - val_categorical_accuracy: 0.5124\n",
            "Epoch 24/200\n",
            "315/315 [==============================] - 13s 42ms/step - loss: 3.7740 - categorical_accuracy: 0.5729 - val_loss: 1.4983 - val_categorical_accuracy: 0.5256\n",
            "Epoch 25/200\n",
            "315/315 [==============================] - 14s 43ms/step - loss: 3.7260 - categorical_accuracy: 0.5737 - val_loss: 1.5198 - val_categorical_accuracy: 0.5171\n",
            "Epoch 26/200\n",
            "315/315 [==============================] - 13s 43ms/step - loss: 3.7190 - categorical_accuracy: 0.5765 - val_loss: 1.5683 - val_categorical_accuracy: 0.5065\n",
            "Epoch 27/200\n",
            "315/315 [==============================] - 13s 42ms/step - loss: 3.6940 - categorical_accuracy: 0.5814 - val_loss: 1.5271 - val_categorical_accuracy: 0.5223\n",
            "Epoch 28/200\n",
            "315/315 [==============================] - 14s 43ms/step - loss: 3.6882 - categorical_accuracy: 0.5799 - val_loss: 1.5142 - val_categorical_accuracy: 0.5232\n",
            "Epoch 29/200\n",
            "315/315 [==============================] - 15s 47ms/step - loss: 3.6620 - categorical_accuracy: 0.5859 - val_loss: 1.5630 - val_categorical_accuracy: 0.5098\n",
            "Epoch 30/200\n",
            "315/315 [==============================] - 13s 42ms/step - loss: 3.6822 - categorical_accuracy: 0.5821 - val_loss: 1.5299 - val_categorical_accuracy: 0.5258\n",
            "Epoch 31/200\n",
            "315/315 [==============================] - 14s 43ms/step - loss: 3.6241 - categorical_accuracy: 0.5928 - val_loss: 1.5110 - val_categorical_accuracy: 0.5300\n",
            "Epoch 32/200\n",
            "315/315 [==============================] - 13s 42ms/step - loss: 3.5122 - categorical_accuracy: 0.6035 - val_loss: 1.5385 - val_categorical_accuracy: 0.5250\n",
            "Epoch 33/200\n",
            "315/315 [==============================] - 14s 43ms/step - loss: 3.4878 - categorical_accuracy: 0.6103 - val_loss: 1.5430 - val_categorical_accuracy: 0.5264\n",
            "Epoch 34/200\n",
            "315/315 [==============================] - ETA: 0s - loss: 3.5311 - categorical_accuracy: 0.6056Restoring model weights from the end of the best epoch: 24.\n",
            "315/315 [==============================] - 13s 42ms/step - loss: 3.5311 - categorical_accuracy: 0.6056 - val_loss: 1.5334 - val_categorical_accuracy: 0.5269\n",
            "Epoch 34: early stopping\n"
          ]
        }
      ]
    },
    {
      "cell_type": "markdown",
      "source": [
        "Affichage des courbes de perte de d'accuracy en fonction des epochs"
      ],
      "metadata": {
        "id": "hsobfcjh5972"
      }
    },
    {
      "cell_type": "code",
      "source": [
        "plt.plot(history.history[\"loss\"], color=\"b\", label=\"train_loss\")\n",
        "plt.plot(history.history[\"val_loss\"], color=\"r\", label=\"val_loss\")\n",
        "plt.ylabel(\"loss\")\n",
        "plt.xlabel(\"Epochs\")\n",
        "plt.title(\"Loss function\")\n",
        "plt.legend()\n",
        "plt.show()"
      ],
      "metadata": {
        "id": "V3TPpOHpZVpa",
        "colab": {
          "base_uri": "https://localhost:8080/",
          "height": 472
        },
        "outputId": "3f3998c2-9d72-43dc-f9d9-2c7708ad7329"
      },
      "execution_count": 65,
      "outputs": [
        {
          "output_type": "display_data",
          "data": {
            "text/plain": [
              "<Figure size 640x480 with 1 Axes>"
            ],
            "image/png": "[encoded data removed]"
          },
          "metadata": {}
        }
      ]
    },
    {
      "cell_type": "code",
      "source": [
        "plt.plot(history.history[\"categorical_accuracy\"], color=\"b\", label=\"train_accuracy\")\n",
        "plt.plot(history.history[\"val_categorical_accuracy\"], color=\"r\", label=\"val_accuracy\")\n",
        "plt.ylabel(\"accuracy\")\n",
        "plt.xlabel(\"Epochs\")\n",
        "plt.title(\"Accuracy\")\n",
        "plt.legend()\n",
        "plt.show()"
      ],
      "metadata": {
        "colab": {
          "base_uri": "https://localhost:8080/",
          "height": 472
        },
        "id": "BUHw6rj86PSj",
        "outputId": "971fe345-f5dd-48c8-d72c-0b8a9a2f2f33"
      },
      "execution_count": 66,
      "outputs": [
        {
          "output_type": "display_data",
          "data": {
            "text/plain": [
              "<Figure size 640x480 with 1 Axes>"
            ],
            "image/png": "[encoded data removed]"
          },
          "metadata": {}
        }
      ]
    },
    {
      "cell_type": "markdown",
      "source": [
        "On prepare le jeu de test et on fait nos predictions."
      ],
      "metadata": {
        "id": "SeA4DsL86nbf"
      }
    },
    {
      "cell_type": "code",
      "source": [
        "test_datagen = ImageDataGenerator(\n",
        "    rescale = 1./255,\n",
        ")\n",
        "\n",
        "test_generator = test_datagen.flow_from_directory(\n",
        "    directory = test_dir,\n",
        "    target_size = (48, 48),\n",
        "    batch_size = BATCH_SIZE,\n",
        "    color_mode = \"grayscale\",\n",
        "    class_mode = \"categorical\",\n",
        "    shuffle=True\n",
        ")"
      ],
      "metadata": {
        "colab": {
          "base_uri": "https://localhost:8080/"
        },
        "id": "t2NsKrG36ss7",
        "outputId": "1a664a36-9139-4631-8e35-46ef28b184eb"
      },
      "execution_count": 67,
      "outputs": [
        {
          "output_type": "stream",
          "name": "stdout",
          "text": [
            "Found 7178 images belonging to 7 classes.\n"
          ]
        }
      ]
    },
    {
      "cell_type": "code",
      "source": [
        "predictions_probas = model.predict(test_generator)\n",
        "predictions = np.argmax(predictions_probas, axis=1)\n",
        "results = pd.DataFrame({\"test\" : test_generator.classes, \"pred\" : predictions})\n",
        "results[\"pred\"] = round(results[\"pred\"])\n",
        "print(classification_report(results[\"test\"], results[\"pred\"]))"
      ],
      "metadata": {
        "colab": {
          "base_uri": "https://localhost:8080/"
        },
        "id": "RDfG_MRz6d0k",
        "outputId": "4eb3ad81-b276-4043-a582-336aff07c4e3"
      },
      "execution_count": 68,
      "outputs": [
        {
          "output_type": "stream",
          "name": "stdout",
          "text": [
            "113/113 [==============================] - 4s 35ms/step\n",
            "              precision    recall  f1-score   support\n",
            "\n",
            "           0       0.14      0.13      0.13       958\n",
            "           1       0.03      0.05      0.04       111\n",
            "           2       0.12      0.06      0.08      1024\n",
            "           3       0.25      0.26      0.25      1774\n",
            "           4       0.16      0.20      0.18      1233\n",
            "           5       0.17      0.19      0.18      1247\n",
            "           6       0.12      0.12      0.12       831\n",
            "\n",
            "    accuracy                           0.17      7178\n",
            "   macro avg       0.14      0.14      0.14      7178\n",
            "weighted avg       0.17      0.17      0.17      7178\n",
            "\n"
          ]
        }
      ]
    },
    {
      "cell_type": "markdown",
      "source": [
        "Affichons la matrice de confusion."
      ],
      "metadata": {
        "id": "qOmX76-Y853c"
      }
    },
    {
      "cell_type": "code",
      "source": [
        "cm = confusion_matrix(results[\"test\"], results[\"pred\"])\n",
        "ConfusionMatrixDisplay(cm).plot()\n",
        "plt.show()"
      ],
      "metadata": {
        "colab": {
          "base_uri": "https://localhost:8080/",
          "height": 452
        },
        "id": "2UvQMOoi85l0",
        "outputId": "878d1f1e-3125-4005-e554-2dc615e0f8bf"
      },
      "execution_count": 69,
      "outputs": [
        {
          "output_type": "display_data",
          "data": {
            "text/plain": [
              "<Figure size 640x480 with 2 Axes>"
            ],
            "image/png": "[encoded data removed]"
          },
          "metadata": {}
        }
      ]
    },
    {
      "cell_type": "markdown",
      "source": [
        "Sauvegardons le modèle, les scores et les predictions."
      ],
      "metadata": {
        "id": "5x5AvGQFG7JR"
      }
    },
    {
      "cell_type": "code",
      "source": [
        "history_df = pd.DataFrame(history.history)"
      ],
      "metadata": {
        "id": "5677OBQ3IFNy"
      },
      "execution_count": 70,
      "outputs": []
    },
    {
      "cell_type": "code",
      "source": [
        "model.save(\"/content/ProjetFinal_JedhaDS27_Emotions/Modèles/modele_theo/model_theo.h5\")\n",
        "history_df.to_csv(\"/content/ProjetFinal_JedhaDS27_Emotions/Modèles/modele_theo/history_theo.csv\")\n",
        "results.to_csv(\"/content/ProjetFinal_JedhaDS27_Emotions/Modèles/modele_theo/predictions_theo.csv\")"
      ],
      "metadata": {
        "colab": {
          "base_uri": "https://localhost:8080/"
        },
        "id": "nUKt_jL_HtL6",
        "outputId": "da06a9bd-49a7-4b78-d3ec-8e36720f566e"
      },
      "execution_count": 71,
      "outputs": [
        {
          "output_type": "stream",
          "name": "stderr",
          "text": [
            "/usr/local/lib/python3.10/dist-packages/keras/src/engine/training.py:3103: UserWarning: You are saving your model as an HDF5 file via `model.save()`. This file format is considered legacy. We recommend using instead the native Keras format, e.g. `model.save('my_model.keras')`.\n",
            "  saving_api.save_model(\n"
          ]
        }
      ]
    },
    {
      "cell_type": "markdown",
      "source": [
        "Téléchargement du dossier modele_theo sur le PC local"
      ],
      "metadata": {
        "id": "zw40J1X8L_PS"
      }
    },
    {
      "cell_type": "code",
      "source": [
        "!zip -r /content/ProjetFinal_JedhaDS27_Emotions/Modèles/modele_theo.zip /content/ProjetFinal_JedhaDS27_Emotions/Modèles/modele_theo"
      ],
      "metadata": {
        "colab": {
          "base_uri": "https://localhost:8080/"
        },
        "id": "fkUrJNBJMEbB",
        "outputId": "649780a2-3da5-4e5b-cbbe-00dad93d0c23"
      },
      "execution_count": 73,
      "outputs": [
        {
          "output_type": "stream",
          "name": "stdout",
          "text": [
            "  adding: content/ProjetFinal_JedhaDS27_Emotions/Modèles/modele_theo/ (stored 0%)\n",
            "  adding: content/ProjetFinal_JedhaDS27_Emotions/Modèles/modele_theo/model_theo.h5 (deflated 34%)\n",
            "  adding: content/ProjetFinal_JedhaDS27_Emotions/Modèles/modele_theo/history_theo.csv (deflated 50%)\n",
            "  adding: content/ProjetFinal_JedhaDS27_Emotions/Modèles/modele_theo/predictions_theo.csv (deflated 73%)\n"
          ]
        }
      ]
    },
    {
      "cell_type": "code",
      "source": [
        "from google.colab import files\n",
        "\n",
        "files.download('/content/ProjetFinal_JedhaDS27_Emotions/Modèles/modele_theo.zip')"
      ],
      "metadata": {
        "colab": {
          "base_uri": "https://localhost:8080/",
          "height": 17
        },
        "id": "uw9qTWVnMdz2",
        "outputId": "2b71548a-1493-4cc2-e2aa-2b02a5fadd5a"
      },
      "execution_count": 74,
      "outputs": [
        {
          "output_type": "display_data",
          "data": {
            "text/plain": [
              "<IPython.core.display.Javascript object>"
            ],
            "application/javascript": [
              "\n",
              "    async function download(id, filename, size) {\n",
              "      if (!google.colab.kernel.accessAllowed) {\n",
              "        return;\n",
              "      }\n",
              "      const div = document.createElement('div');\n",
              "      const label = document.createElement('label');\n",
              "      label.textContent = `Downloading \"${filename}\": `;\n",
              "      div.appendChild(label);\n",
              "      const progress = document.createElement('progress');\n",
              "      progress.max = size;\n",
              "      div.appendChild(progress);\n",
              "      document.body.appendChild(div);\n",
              "\n",
              "      const buffers = [];\n",
              "      let downloaded = 0;\n",
              "\n",
              "      const channel = await google.colab.kernel.comms.open(id);\n",
              "      // Send a message to notify the kernel that we're ready.\n",
              "      channel.send({})\n",
              "\n",
              "      for await (const message of channel.messages) {\n",
              "        // Send a message to notify the kernel that we're ready.\n",
              "        channel.send({})\n",
              "        if (message.buffers) {\n",
              "          for (const buffer of message.buffers) {\n",
              "            buffers.push(buffer);\n",
              "            downloaded += buffer.byteLength;\n",
              "            progress.value = downloaded;\n",
              "          }\n",
              "        }\n",
              "      }\n",
              "      const blob = new Blob(buffers, {type: 'application/binary'});\n",
              "      const a = document.createElement('a');\n",
              "      a.href = window.URL.createObjectURL(blob);\n",
              "      a.download = filename;\n",
              "      div.appendChild(a);\n",
              "      a.click();\n",
              "      div.remove();\n",
              "    }\n",
              "  "
            ]
          },
          "metadata": {}
        },
        {
          "output_type": "display_data",
          "data": {
            "text/plain": [
              "<IPython.core.display.Javascript object>"
            ],
            "application/javascript": [
              "download(\"download_f77b249f-5581-4b99-b8df-adb8c71fdfe8\", \"modele_theo.zip\", 5454155)"
            ]
          },
          "metadata": {}
        }
      ]
    }
  ]
}